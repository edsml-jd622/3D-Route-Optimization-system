{
 "cells": [
  {
   "cell_type": "markdown",
   "id": "372bb4a7",
   "metadata": {},
   "source": [
    "# Note\n",
    "\n",
    "This file is only for generating 100 random pairs of locations for testing the performance of the route system. \n",
    "It is of ***no use*** for users."
   ]
  },
  {
   "cell_type": "code",
   "execution_count": 1,
   "id": "f971683d",
   "metadata": {},
   "outputs": [],
   "source": [
    "import numpy as np\n",
    "import pyproj\n",
    "import networkx as nx\n",
    "import random\n",
    "import csv\n",
    "import sys\n",
    "\n",
    "sys.path.append('../')\n",
    "from utils.Road_Network import RoadNetwork3D\n",
    "from utils.City import City\n",
    "from utils.Generator_Tool import generate_random_CityWeight"
   ]
  },
  {
   "cell_type": "code",
   "execution_count": 2,
   "id": "30968cc5",
   "metadata": {},
   "outputs": [
    {
     "name": "stderr",
     "output_type": "stream",
     "text": [
      "Reading data: 100%|██████████████| 142611/142611 [00:00<00:00, 1526833.68item/s]\n",
      "Integrating data: 100%|███████████| 142611/142611 [00:00<00:00, 597268.74item/s]\n",
      "Creating network: 100%|████████████| 142611/142611 [00:01<00:00, 71562.72item/s]\n"
     ]
    }
   ],
   "source": [
    "road_path = '../data/accra_road.json' # The path of 2D road data\n",
    "ele_path = '../data/elevation/n05_w001_1arc_v3.tif' # The path of elevation data\n",
    "\n",
    "accra_road = RoadNetwork3D(road_path, ele_path)\n",
    "accra_road.integrate()\n",
    "accra_road.create_network()"
   ]
  },
  {
   "cell_type": "code",
   "execution_count": 3,
   "id": "69d86c68",
   "metadata": {},
   "outputs": [],
   "source": [
    "random.seed(42)\n",
    "csv_filename = 'random_locations.csv'\n",
    "location_number = 100\n",
    "\n",
    "coord_list = [['lat1', 'lon1', 'lat2', 'lon2', 'distance', 'time']]\n",
    "\n",
    "while location_number>0:\n",
    "    lat1 = random.uniform(5.55455, 5.6665)\n",
    "    lon1 = random.uniform(-0.26056, -0.1696)\n",
    "    city1 = City(lat1, lon1)\n",
    "    \n",
    "    lat2 = random.uniform(5.55455, 5.6665)\n",
    "    lon2 = random.uniform(-0.26056, -0.1696)\n",
    "    city2 = City(lat2, lon2)\n",
    "    \n",
    "    if nx.has_path(accra_road.network, accra_road.get_closest_point(city1)[0], accra_road.get_closest_point(city2)[0]):\n",
    "        dist = accra_road.get_shortest_path_length(city1, city2, weight='distance')\n",
    "        time = accra_road.get_shortest_path_length(city1, city2, weight='time')\n",
    "        coord_list.append([lat1, lon1, lat2, lon2, dist, time])\n",
    "    else: continue\n",
    "    \n",
    "    location_number -= 1\n",
    "\n",
    "with open(csv_filename, mode='w', newline='') as file:\n",
    "    writer = csv.writer(file)\n",
    "    \n",
    "    for row in coord_list:\n",
    "        writer.writerow(row)"
   ]
  },
  {
   "cell_type": "code",
   "execution_count": 4,
   "id": "80dde392",
   "metadata": {},
   "outputs": [
    {
     "name": "stdout",
     "output_type": "stream",
     "text": [
      "CSV file contains following headers：\n",
      "['lat1', 'lon1', 'lat2', 'lon2', 'distance', 'distance(Google)', 'time', 'time(Google)']\n",
      "mse of distance:  920.0292186377036\n",
      "mse percentage of distance:  0.11946104247714129\n",
      "mse of time:  227.90850745961845\n",
      "mse percentage of time:  0.23725641001417702\n"
     ]
    }
   ],
   "source": [
    "#This csv file is based on 'random_locations.csv', only two columns of data from Google Maps are added\n",
    "csv_file_withGoogle = 'random_locations_withGoogle.csv' \n",
    "mse_dist = 0\n",
    "mean_dist = 0\n",
    "mse_time = 0\n",
    "mean_time = 0\n",
    "count = 0\n",
    "with open(csv_file_withGoogle, mode='r') as file:\n",
    "    reader = csv.reader(file)\n",
    "\n",
    "    headers = next(reader, None)\n",
    "    \n",
    "    if headers:\n",
    "        print(\"CSV file contains following headers：\")\n",
    "        print(headers)\n",
    "\n",
    "    for row in reader:\n",
    "        mse_dist += (float(row[4])-float(row[5])*1000)**2\n",
    "        mse_time += (float(row[6])-float(row[7])*60)**2\n",
    "        mean_dist += float(row[5])*1000\n",
    "        mean_time += float(row[7])*60\n",
    "        count+=1\n",
    "mse_dist = np.sqrt(mse_dist / count)\n",
    "mse_time = np.sqrt(mse_time / count)\n",
    "mean_dist = mean_dist/count\n",
    "mean_time = mean_time/count\n",
    "\n",
    "print('mse of distance: ', mse_dist)\n",
    "print('mse percentage of distance: ', mse_dist / mean_dist)\n",
    "print('mse of time: ', mse_time)\n",
    "print('mse percentage of time: ', mse_time / mean_time)"
   ]
  }
 ],
 "metadata": {
  "kernelspec": {
   "display_name": "Python 3 (ipykernel)",
   "language": "python",
   "name": "python3"
  },
  "language_info": {
   "codemirror_mode": {
    "name": "ipython",
    "version": 3
   },
   "file_extension": ".py",
   "mimetype": "text/x-python",
   "name": "python",
   "nbconvert_exporter": "python",
   "pygments_lexer": "ipython3",
   "version": "3.11.4"
  }
 },
 "nbformat": 4,
 "nbformat_minor": 5
}
